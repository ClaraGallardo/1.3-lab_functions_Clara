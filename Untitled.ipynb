{
 "cells": [
  {
   "cell_type": "code",
   "execution_count": 4,
   "id": "0cbd2c62",
   "metadata": {},
   "outputs": [
    {
     "name": "stdout",
     "output_type": "stream",
     "text": [
      "El factorial de 3 es 6\n"
     ]
    }
   ],
   "source": [
    "def factorial(n):\n",
    "    if n < 0:\n",
    "        return \"El factorial no está definido para números negativos\"\n",
    "    elif n == 0:\n",
    "        return 1\n",
    "    else:\n",
    "        resultado = 1\n",
    "        for i in range(1, n + 1):\n",
    "            resultado *= i\n",
    "        return resultado\n",
    "\n",
    "# Ejemplo de uso:\n",
    "n = 3\n",
    "resultado = factorial(n)\n",
    "print(f\"El factorial de {n} es {resultado}\")\n"
   ]
  },
  {
   "cell_type": "code",
   "execution_count": null,
   "id": "d7c40c8a",
   "metadata": {},
   "outputs": [],
   "source": [
    "resultado = 1\n",
    "for i in range(1,n+1):\n",
    "    resultado *= i"
   ]
  }
 ],
 "metadata": {},
 "nbformat": 4,
 "nbformat_minor": 5
}
